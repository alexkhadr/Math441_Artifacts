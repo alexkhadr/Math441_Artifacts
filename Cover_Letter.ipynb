{
 "cells": [
  {
   "cell_type": "markdown",
   "id": "911835ce-8ff0-4a5d-aeb0-c7f31a6fc43b",
   "metadata": {},
   "source": [
    "# Cover Letter\n",
    "\n",
    "**What is the most important thing that you learned in this course?**\n",
    "\n",
    "In many other math courses, we learn the math and theory behind algorithms. However this class has taught me exactly how to apply my learning in real life situations. The most important thing I learned in this class isn't necessarily how to solve the actual problems given to me, but rather how to be able to set them up. In addition we learned a good combination on how the algorithms or approaches to solving optimization problems work, but also easier ways to solve it using pre-existing libraries. \n",
    "\n",
    "**What was your process for creating artifacts?**\n",
    "\n",
    "I tried to be consistent with the material we learned in class. However I did not want to replicate work done during the lectures. For most artifacts I did research on the lecture topic online and when I found something I was unfamiliar with I would look into doing an artifact on that. In addition I wanted a variety of hands on work and coding work to better my skills. For example I struggled using OR Tools so I made one of my artifacts focus on being able to solve a problem using that library. I came into this class having a decent background in linear programming but no real background into algorithms, hence I focused many artifacts on how algorithms work and why they work to try to close that knowledge gap I have\n",
    "\n",
    "**Which artifact are you most proud of?**\n",
    "\n",
    "I would say I am most proud of my Artifact 5. This is because I really played along with the scheduling problem and tried to use real data to solve the issue. The idea for that artifact came about me realizing while watching hockey that playing teams in your conference later on in the season is an advantage and was able to formulate a random thought I had watching TV into an actual optimization problem. From there I was able to build up to more constraints and still understand how much more work can be done on that artifact. I also spent a very long time implementing the code and getting it to run, so it was very satisfying to see that working after a while\n",
    "\n",
    "**What did you find most challenging about creating your portfolio? What was most enjoyable?**\n",
    "\n",
    "There were many thing I found challenging when working on the portfolio. Since I wanted to focus on topics I wasn't strongly suited at, it was hard to estimate how long the tasks would take and many times it would take me a lot longer then expected. A lot of the portfolio was playing around with the code to understand it. I had many failed attempts in attempting to solve the problems and most of my work did not work correctly and had to be deleted. Hence I would say creating the code was one of my biggest challenges. Another challenge was being able to format problems into the form of a optimization problem. This required a lot of practice and getting used to it.After watching a lot of youtube videos and having more exposure to the lectures as the term went on, it became easier to identify the decision variables and construct an objective function.\n",
    "\n",
    "**What guidance would you give to students who are getting started with their own portfolio?**\n",
    "\n",
    "90% of the portfolio is experimentation. Therefore when I started with a big idea it would take ages for me to figure out how to solve it. I enjoyed working on a smaller task and adding to it little by little as it made the experimentation part a lot easier and helps you understand the material more clearly\n",
    "\n",
    "**Proposed Grade: 83%**"
   ]
  },
  {
   "cell_type": "code",
   "execution_count": null,
   "id": "1292f663-463c-497f-bd2a-b7555bc57c6f",
   "metadata": {},
   "outputs": [],
   "source": []
  }
 ],
 "metadata": {
  "kernelspec": {
   "display_name": "Python 3 (ipykernel)",
   "language": "python",
   "name": "python3"
  },
  "language_info": {
   "codemirror_mode": {
    "name": "ipython",
    "version": 3
   },
   "file_extension": ".py",
   "mimetype": "text/x-python",
   "name": "python",
   "nbconvert_exporter": "python",
   "pygments_lexer": "ipython3",
   "version": "3.9.10"
  }
 },
 "nbformat": 4,
 "nbformat_minor": 5
}
