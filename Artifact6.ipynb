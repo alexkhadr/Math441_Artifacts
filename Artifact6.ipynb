{
 "cells": [
  {
   "cell_type": "markdown",
   "id": "36d206c8-4bb9-4666-9074-82ad994c9b03",
   "metadata": {},
   "source": [
    "# Artifact 6\n",
    "\n",
    "## Using OR Tools on Textbook question "
   ]
  },
  {
   "cell_type": "markdown",
   "id": "6ab0eb3b-4878-48e3-94a8-071276817f07",
   "metadata": {},
   "source": [
    "This artifact was used for me to practice using OR Tools. For my group project the use of OR tools has come up several times and I am yet to use this tool on my own. Hence I altered multiple questions I have found to create my own problem and then solve it using OR Tools."
   ]
  },
  {
   "cell_type": "markdown",
   "id": "6aee26e0-948d-4b5c-82a9-a11cfa12ae0a",
   "metadata": {},
   "source": [
    "### Question I cam up with\n",
    "Nurses typically work three days a week and often it is 3 days back to back to back and then 4 days off. \n",
    "\n",
    "For the sake of this question lets assume a nurse works three consecutive days within a week. The problem we want to solve is the amount of nurses BC Children's Hospital has to hire in order to have enough workers for every shift. \n",
    "\n",
    "Lets consider a simple problem first and expand on that (numbers are randomly selected).\n"
   ]
  },
  {
   "cell_type": "markdown",
   "id": "320a535d-8b2c-47c5-912d-7b8bd3e7b5fb",
   "metadata": {},
   "source": [
    "| Day of The Week | Number of Employees Needed | \n",
    "|:--------:|:--------:|\n",
    "|  Monday   |  160   |  \n",
    "|  Tuesday  |  120   | \n",
    "|  Wednesday   |  180  | \n",
    "|  Thursday   |  130 | \n",
    "|  Friday   |  150  | \n",
    "|  Saturday   |  90 | \n",
    "|  Sunday   |  70 | "
   ]
  },
  {
   "cell_type": "markdown",
   "id": "a4dc4c1f-af77-48cd-9d91-ce9755318228",
   "metadata": {},
   "source": [
    "What we know:\n",
    "\n",
    "- We want to minimize the total number of employee's to hire\n",
    "- Each nurse works three consecutive days and then has 4 days off\n",
    "\n",
    "Lets also add one more constraint:\n",
    "- Lets says that at least half of the workers get weekends off as well"
   ]
  },
  {
   "cell_type": "markdown",
   "id": "c055c929-1b7d-497a-b3d9-fe9fbcf58e84",
   "metadata": {},
   "source": [
    "## Setting up the Problem\n",
    "\n",
    "Instead of having the decision variables be the day the worker is working, it is easier to think of the decision variable and the start date of a shift. \n",
    "\n",
    "In other words we'd have:\n",
    "\n",
    "$X_1$ = Number of nurses that start their work on Monday <br>\n",
    "$X_2$ = Number of nurses that start their work on Tuesday <br>\n",
    "$X_3$ = Number of nurses that start their work on Wednesday <br>\n",
    "$X_4$ = Number of nurses that start their work on Thursday <br>\n",
    "$X_5$ = Number of nurses that start their work on Friday <br>\n",
    "$X_6$ = Number of nurses that start their work on Saturday <br>\n",
    "$X_7$ = Number of nurses that start their work on Sunday <br>\n",
    "\n",
    "**Why do we set it up like this?**\n",
    "\n",
    "If we set it up like this, every decision variable is associated to workers and we are not counting that same worker in another decision variable.\n",
    "\n",
    "For example if we just made the decision variables the day of the week then a worker how works Monday, Tuesday, Wednesday would be included in all of $ X_1, X_2, X_3 $."
   ]
  },
  {
   "cell_type": "markdown",
   "id": "f30ba0de-d8c2-4953-862a-ef554c47d3a5",
   "metadata": {},
   "source": [
    "**Objective Function**\n",
    "\n",
    "We can now set our objective function to be:\n",
    "\n",
    "$\n",
    "minimize \\sum_{i=1}^{7} X_i\n",
    "$\n",
    "\n",
    "Such that: <br>\n",
    "\n",
    "$X_1 + X_6 + X_7 >= 160$\n",
    "\n",
    "\n",
    "## Constraints\n",
    "\n",
    "The constraints for the optimization problem are as follows:\n",
    "\n",
    "1. $ X_1 + X_6 + X_7 \\geq 160 $\n",
    "2. $ X_1 + X_2 + X_7 \\geq 120 $\n",
    "3. $ X_1 + X_2 + X_3 \\geq 180 $\n",
    "4. $ X_2 + X_3 + X_4 \\geq 130 $\n",
    "5. $ X_3 + X_4 + X_5 \\geq 150 $\n",
    "6. $ X_4 + X_5 + X_6 \\geq 90 $\n",
    "7. $ X_5 + X_6 + X_7 \\geq 70 $\n",
    "8. $ X1 + X2 + X3 - X4 - X5 - X6 - X7 \\geq 0 $\n",
    "\n",
    "Each $ X_i $ where $ i = 1, 2, 3, 4, 5, 6, 7 $ must be non-negative $( X_i \\geq 0 $).\n"
   ]
  },
  {
   "cell_type": "code",
   "execution_count": 4,
   "id": "d1466bd3-cde6-4360-9d45-339a5371900b",
   "metadata": {},
   "outputs": [],
   "source": [
    "# pip install ortools"
   ]
  },
  {
   "cell_type": "code",
   "execution_count": 5,
   "id": "3ec6bb9f-452a-42f0-ad2e-ccbdc65f34da",
   "metadata": {},
   "outputs": [
    {
     "name": "stdout",
     "output_type": "stream",
     "text": [
      "Solution:\n",
      "X1 = 89.99999999999999\n",
      "X2 = 0.0\n",
      "X3 = 90.00000000000003\n",
      "X4 = 59.99999999999997\n",
      "X5 = 0.0\n",
      "X6 = 40.0\n",
      "X7 = 30.000000000000004\n",
      "Objective value = 310.0\n"
     ]
    }
   ],
   "source": [
    "from ortools.linear_solver import pywraplp\n",
    "\n",
    "def solve_optimization_problem():\n",
    "    # Create the linear solver with the GLOP backend.\n",
    "    solver = pywraplp.Solver.CreateSolver('GLOP')\n",
    "\n",
    "    # Variables\n",
    "    X1 = solver.NumVar(0, solver.infinity(), 'X1')\n",
    "    X2 = solver.NumVar(0, solver.infinity(), 'X2')\n",
    "    X3 = solver.NumVar(0, solver.infinity(), 'X3')\n",
    "    X4 = solver.NumVar(0, solver.infinity(), 'X4')\n",
    "    X5 = solver.NumVar(0, solver.infinity(), 'X5')\n",
    "    X6 = solver.NumVar(0, solver.infinity(), 'X6')\n",
    "    X7 = solver.NumVar(0, solver.infinity(), 'X7')\n",
    "\n",
    "    # Objective function: Minimize X1 + X2 + X3 + X4 + X5 + X6 + X7\n",
    "    solver.Minimize(X1 + X2 + X3 + X4 + X5 + X6 + X7)\n",
    "\n",
    "    # Constraints\n",
    "    solver.Add(X1 + X6 + X7 >= 160)\n",
    "    solver.Add(X1 + X2 + X7 >= 120)\n",
    "    solver.Add(X1 + X2 + X3 >= 180)\n",
    "    solver.Add(X2 + X3 + X4 >= 130)\n",
    "    solver.Add(X3 + X4 + X5 >= 150)\n",
    "    solver.Add(X4 + X5 + X6 >= 90)\n",
    "    solver.Add(X5 + X6 + X7 >= 70)\n",
    "    solver.Add(X1 + X2 + X3 - X4 - X5 - X6 - X7 >= 0)\n",
    "\n",
    "    # Solve the system.\n",
    "    status = solver.Solve()\n",
    "\n",
    "    if status == pywraplp.Solver.OPTIMAL:\n",
    "        print('Solution:')\n",
    "        print('X1 =', X1.solution_value())\n",
    "        print('X2 =', X2.solution_value())\n",
    "        print('X3 =', X3.solution_value())\n",
    "        print('X4 =', X4.solution_value())\n",
    "        print('X5 =', X5.solution_value())\n",
    "        print('X6 =', X6.solution_value())\n",
    "        print('X7 =', X7.solution_value())\n",
    "        print('Objective value =', solver.Objective().Value())\n",
    "    else:\n",
    "        print('The problem does not have an optimal solution.')\n",
    "\n",
    "if __name__ == '__main__':\n",
    "    solve_optimization_problem()"
   ]
  },
  {
   "cell_type": "markdown",
   "id": "c4963807-a0db-421c-bb68-ea30b276cb36",
   "metadata": {},
   "source": [
    "### Why are there decimals:\n",
    "\n",
    "The decimal points you see in the solution values for X3 and X4 (like \n",
    "9.000000000000002 and \n",
    "5.999999999999997) typically arise from the floating-point arithmetic used by computers to solve linear programming problems, including those handled by OR-Tools. <br>\n",
    "\n",
    "Computers use binary floating-point arithmetic to handle real numbers, which can only approximate most decimal fractions. This system has inherent precision limitations, so numbers that we expect to be represented exactly as simple decimals often end up with small errors in their least significant digits."
   ]
  },
  {
   "cell_type": "markdown",
   "id": "94b96017-c950-46d5-8fb4-05b13cc813e8",
   "metadata": {},
   "source": [
    "## Lets add more to this\n",
    "\n",
    "What if we wanted to consider the following\n",
    "\n",
    "1) Different levels of the nurse (senior/junior)\n",
    "\n",
    "**How does our problem switch**\n",
    "\n",
    "Lets say that a senior worker cost double a junior worker\n",
    "Lets say we need at least 20% of the workers on each day to be senior workers\n",
    "\n",
    "Variables:\n",
    "\n",
    "$x_{i, d}$ = Number of workers on starting on day i and of experience type d <br>\n",
    "\n"
   ]
  },
  {
   "cell_type": "code",
   "execution_count": 17,
   "id": "264995bb-de25-4af5-a17a-08d7bc30c951",
   "metadata": {},
   "outputs": [
    {
     "name": "stdout",
     "output_type": "stream",
     "text": [
      "Solution:\n",
      "X1j = 87.99999999999999 X1s = 21.999999999999996\n",
      "X2j = 0.0 X2s = 0.0\n",
      "X3j = 56.00000000000002 X3s = 14.000000000000005\n",
      "X4j = 47.99999999999998 X4s = 11.999999999999995\n",
      "X5j = 15.999999999999995 X5s = 3.9999999999999987\n",
      "X6j = 32.0 X6s = 8.0\n",
      "X7j = 8.000000000000005 X7s = 2.0000000000000013\n",
      "Objective value = 372.0\n"
     ]
    }
   ],
   "source": [
    "def solve_optimization_problem():\n",
    "    # Create the linear solver with the GLOP backend.\n",
    "    solver = pywraplp.Solver.CreateSolver('GLOP')\n",
    "\n",
    "    # Variables for junior and senior nurses for each day\n",
    "    X1j = solver.NumVar(0, solver.infinity(), 'X1j')  \n",
    "    X2j = solver.NumVar(0, solver.infinity(), 'X2j')\n",
    "    X3j = solver.NumVar(0, solver.infinity(), 'X3j')\n",
    "    X4j = solver.NumVar(0, solver.infinity(), 'X4j')\n",
    "    X5j = solver.NumVar(0, solver.infinity(), 'X5j')\n",
    "    X6j = solver.NumVar(0, solver.infinity(), 'X6j')\n",
    "    X7j = solver.NumVar(0, solver.infinity(), 'X7j')\n",
    "\n",
    "    X1s = solver.NumVar(0, solver.infinity(), 'X1s')\n",
    "    X2s = solver.NumVar(0, solver.infinity(), 'X2s')\n",
    "    X3s = solver.NumVar(0, solver.infinity(), 'X3s')\n",
    "    X4s = solver.NumVar(0, solver.infinity(), 'X4s')\n",
    "    X5s = solver.NumVar(0, solver.infinity(), 'X5s')\n",
    "    X6s = solver.NumVar(0, solver.infinity(), 'X6s')\n",
    "    X7s = solver.NumVar(0, solver.infinity(), 'X7s')\n",
    "\n",
    "    # Objective function: Minimize total cost of nurses\n",
    "    solver.Minimize(\n",
    "        X1j + X2j + X3j + X4j + X5j + X6j + X7j +\n",
    "        2 * (X1s + X2s + X3s + X4s + X5s + X6s + X7s)\n",
    "    )\n",
    "\n",
    "    # Constraints\n",
    "    # Sum of junior and senior nurses must meet the staffing requirements\n",
    "    solver.Add(X1j + X1s + X6j + X6s + X7j + X7s >= 160)\n",
    "    solver.Add(X1j + X1s + X2j + X2s + X7j + X7s >= 120)\n",
    "    solver.Add(X1j + X1s + X2j + X2s + X3j + X3s >= 180)\n",
    "    solver.Add(X2j + X2s + X3j + X3s + X4j + X4s >= 130)\n",
    "    solver.Add(X3j + X3s + X4j + X4s + X5j + X5s >= 150)\n",
    "    solver.Add(X4j + X4s + X5j + X5s + X6j + X6s >= 90)\n",
    "    solver.Add(X5j + X5s + X6j + X6s + X7j + X7s >= 70)\n",
    "\n",
    "    # Additional constraint: At least 20% of the workers on days must be senior nurses\n",
    "    solver.Add(X1s >= 0.2 * (X1j + X1s))\n",
    "    solver.Add(X2s >= 0.2 * (X2j + X2s))\n",
    "    solver.Add(X3s >= 0.2 * (X3j + X3s))\n",
    "    solver.Add(X4s >= 0.2 * (X4j + X4s))\n",
    "    solver.Add(X5s >= 0.2 * (X5j + X5s))\n",
    "    solver.Add(X6s >= 0.2 * (X6j + X6s))\n",
    "    solver.Add(X7s >= 0.2 * (X7j + X7s))\n",
    "\n",
    "    # Solve the system.\n",
    "    status = solver.Solve()\n",
    "\n",
    "    if status == pywraplp.Solver.OPTIMAL:\n",
    "        print('Solution:')\n",
    "        print('X1j =', X1j.solution_value(), 'X1s =', X1s.solution_value())\n",
    "        print('X2j =', X2j.solution_value(), 'X2s =', X2s.solution_value())\n",
    "        print('X3j =', X3j.solution_value(), 'X3s =', X3s.solution_value())\n",
    "        print('X4j =', X4j.solution_value(), 'X4s =', X4s.solution_value())\n",
    "        print('X5j =', X5j.solution_value(), 'X5s =', X5s.solution_value())\n",
    "        print('X6j =', X6j.solution_value(), 'X6s =', X6s.solution_value())\n",
    "        print('X7j =', X7j.solution_value(), 'X7s =', X7s.solution_value())\n",
    "        print('Objective value =', solver.Objective().Value())\n",
    "    else:\n",
    "        print('The problem does not have an optimal solution.')\n",
    "\n",
    "if __name__ == '__main__':\n",
    "    solve_optimization_problem()\n"
   ]
  },
  {
   "cell_type": "markdown",
   "id": "340983ea-3dd2-4f36-907a-cfd46805b4ff",
   "metadata": {},
   "source": [
    "## Improvements\n",
    "\n",
    "I believe I familiarized myself enough with OR Tools but the problem I solved doesn't involve a lot of data. Coming up with the problem statement was the hardest part of this artifact. I would like to try the same setup with more data.\n",
    "\n",
    "Additionally I want to add more constraints to make this problem more realistic. For example instead of just shifts per day include night shifts and day shifts and add an upper bound to the number of night shifts a worker can have per week."
   ]
  },
  {
   "cell_type": "code",
   "execution_count": null,
   "id": "9e20531f-cae3-4a37-8391-41b0be6afca6",
   "metadata": {},
   "outputs": [],
   "source": []
  }
 ],
 "metadata": {
  "kernelspec": {
   "display_name": "Python 3 (ipykernel)",
   "language": "python",
   "name": "python3"
  },
  "language_info": {
   "codemirror_mode": {
    "name": "ipython",
    "version": 3
   },
   "file_extension": ".py",
   "mimetype": "text/x-python",
   "name": "python",
   "nbconvert_exporter": "python",
   "pygments_lexer": "ipython3",
   "version": "3.9.10"
  }
 },
 "nbformat": 4,
 "nbformat_minor": 5
}
