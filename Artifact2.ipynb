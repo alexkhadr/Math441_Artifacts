{
 "cells": [
  {
   "cell_type": "markdown",
   "id": "ef04ba45-8a73-4d34-8deb-268481b18307",
   "metadata": {},
   "source": [
    "Prim's algorithm is a greedy algorithm used to find the minimum spanning tree (MST) of a weighted undirected graph. The minimum spanning tree of a graph is a subset of the edges that connects all the vertices together without any cycles and with the minimum possible total edge weight.\n",
    "\n",
    "Here's a summary of how Prim's algorithm works:\n",
    "\n",
    "1) Start with an arbitrary vertex as the initial vertex.\n",
    "2) Initialize a set to keep track of vertices already included in the MST.\n",
    "3) Initialize a priority queue (often implemented using a min-heap) to store the edges that cross the cut (one endpoint in the MST and the other not).\n",
    "4) Repeat the following steps until all vertices are included in the MST:\n",
    "   -  Select the edge with the smallest weight that connects a vertex in the MST to a vertex outside the MST.\n",
    "   -  Add the selected edge to the MST and include the corresponding vertex in the set of vertices included in the MST.\n",
    "    c. Update the priority queue with the edges adjacent to the newly included vertex.\n",
    "5) The algorithm terminates when all vertices are included in the MST.\n",
    "\n",
    "\n",
    "Prim's algorithm guarantees that the resulting spanning tree will be a minimum spanning tree. This property makes it useful in various applications such as:\n",
    "\n",
    "- Network Design: Prim's algorithm can be used to design efficient communication networks (like laying down fiber optic cables or constructing computer networks) with minimal cost.\n",
    "- Cluster Analysis: In data analysis, Prim's algorithm can be used to identify clusters of related data points based on their pairwise distances or similarities.\n",
    "- Cartography: In cartography and geographical information systems (GIS), Prim's algorithm can help in constructing road networks or other infrastructure projects while minimizing the overall cost.\n",
    "- Routing Algorithms: Prim's algorithm forms the basis for some routing algorithms used in computer networks to find the shortest path between two nodes.\n",
    "- Resource Allocation: It can be used in resource allocation problems, such as optimizing the allocation of resources in a supply chain or scheduling tasks in a project management scenario.\n"
   ]
  },
  {
   "cell_type": "code",
   "execution_count": 3,
   "id": "f3866ab3-c896-4d63-9d30-e4e0c6a06634",
   "metadata": {},
   "outputs": [
    {
     "name": "stdout",
     "output_type": "stream",
     "text": [
      "Edge \tWeight\n",
      "0 - 1\t2\n",
      "1 - 2\t3\n",
      "0 - 3\t6\n",
      "1 - 4\t5\n"
     ]
    }
   ],
   "source": [
    "import sys\n",
    "\n",
    "class Graph:\n",
    "    def __init__(self, vertices):\n",
    "        self.V = vertices\n",
    "        self.graph = [[0 for _ in range(vertices)] for _ in range(vertices)]\n",
    "        \n",
    "    def min_key(self, key, mst_set):\n",
    "        min_val = sys.maxsize\n",
    "        min_index = None\n",
    "        \n",
    "        for v in range(self.V):\n",
    "            if key[v] < min_val and not mst_set[v]:\n",
    "                min_val = key[v]\n",
    "                min_index = v\n",
    "        \n",
    "        return min_index\n",
    "    \n",
    "    def prim_mst(self):\n",
    "        parent = [-1] * self.V\n",
    "        key = [sys.maxsize] * self.V\n",
    "        key[0] = 0\n",
    "        mst_set = [False] * self.V\n",
    "        \n",
    "        for _ in range(self.V):\n",
    "            u = self.min_key(key, mst_set)\n",
    "            mst_set[u] = True\n",
    "            \n",
    "            for v in range(self.V):\n",
    "                if self.graph[u][v] > 0 and not mst_set[v] and key[v] > self.graph[u][v]:\n",
    "                    key[v] = self.graph[u][v]\n",
    "                    parent[v] = u\n",
    "        \n",
    "        return parent\n",
    "\n",
    "def print_mst(graph, parent):\n",
    "    print(\"Edge \\tWeight\")\n",
    "    for i in range(1, graph.V):\n",
    "        print(f\"{parent[i]} - {i}\\t{graph.graph[i][parent[i]]}\")\n",
    "\n",
    "# Example usage:\n",
    "g = Graph(5)\n",
    "g.graph = [\n",
    "    [0, 2, 0, 6, 0],\n",
    "    [2, 0, 3, 8, 5],\n",
    "    [0, 3, 0, 0, 7],\n",
    "    [6, 8, 0, 0, 9],\n",
    "    [0, 5, 7, 9, 0]\n",
    "]\n",
    "\n",
    "mst = g.prim_mst()\n",
    "print_mst(g, mst)\n"
   ]
  },
  {
   "cell_type": "code",
   "execution_count": null,
   "id": "d3590eaa-617b-4d0c-9e92-cc6b8056daa0",
   "metadata": {},
   "outputs": [],
   "source": []
  },
  {
   "cell_type": "code",
   "execution_count": null,
   "id": "f31406fb-a7ef-4bc5-abbc-a878954d7727",
   "metadata": {},
   "outputs": [],
   "source": []
  }
 ],
 "metadata": {
  "kernelspec": {
   "display_name": "Python 3 (ipykernel)",
   "language": "python",
   "name": "python3"
  },
  "language_info": {
   "codemirror_mode": {
    "name": "ipython",
    "version": 3
   },
   "file_extension": ".py",
   "mimetype": "text/x-python",
   "name": "python",
   "nbconvert_exporter": "python",
   "pygments_lexer": "ipython3",
   "version": "3.9.10"
  }
 },
 "nbformat": 4,
 "nbformat_minor": 5
}
