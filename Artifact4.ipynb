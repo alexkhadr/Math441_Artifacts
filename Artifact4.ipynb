{
 "cells": [
  {
   "cell_type": "markdown",
   "id": "e8896e91-2bd0-41d0-ae73-524e3387cdf4",
   "metadata": {},
   "source": [
    "# Artifact 4\n",
    "\n",
    "## The Hungarian Method"
   ]
  },
  {
   "cell_type": "markdown",
   "id": "d3b3b224-05d0-491b-a34c-4fd4f578bcfe",
   "metadata": {},
   "source": [
    "### Why this topic?\n",
    "In class we have gone over many different ways on how to best allocate workers to jobs. The methods we learned can also be applied to various other assignment problems such as machines to tasks, workers to jobs, soccer players to positions, and so on. The goal is to determine the optimum assignment that, for example, minimizes\n",
    "the total cost or maximizes the team’s effectiveness. <br>\n",
    "\n",
    "There are many existing algorithms used to find the optimal value of a assignment problem. In this artifact I will focus on one algorithm used for the assignment problem called the Hungarian Method. It should be noted that this method can be used with weighed edges. <br>\n",
    "\n",
    "Before we get into the coding lets first explain what the algorithm does, then do a small example by hand and then try to code the problem using the same small example and see if we get the same results. <br>"
   ]
  },
  {
   "cell_type": "markdown",
   "id": "005bf536-d57e-429e-bbf8-369c0646e1ae",
   "metadata": {},
   "source": [
    "### How does the algorithm work?\n",
    "\n",
    "When searching up algorithms to used for assignment problems it was a little surprising how straight forward some of the algorithms are. This one for example only takes 4 steps to be able to compute the optimal allocation of assignments.\n",
    "\n",
    "First we do the following two steps\n",
    "\n",
    "1) For each row we find its minimum point and we subtract it from all the other points in that row (including itself)\n",
    "\n",
    "2) Now we do the same thing for columns. Find the minimum value of each column and subtract that value to each value in that column.\n",
    "\n",
    "The following steps may be repeated\n",
    "\n",
    "3) \"Cover\" all the 0's in the resulting matrix using the minimum number of horizontal and vertical lines. If n lines are required, an optimal assignment existamong the 0's and the algorithm stops. If less then n lines are required, continue with Step 4\n",
    "\n",
    "4) Find the smallest element that is not covered by a line in step 3. Subtract k from all uncovered elements and add k to all elements that are covered twice. Go back to step 3"
   ]
  },
  {
   "cell_type": "markdown",
   "id": "432252e8-0548-4e82-8318-63b4d87fa2b9",
   "metadata": {},
   "source": [
    "The explanation can be a little bit confusing just using words but it much easier to understand with an example.\n",
    "\n",
    "Lets consider a simple example where four jobs (J1, J2, J3, and J4) need to be executed by four workers (W1, W2, W3, and W4), one job per worker. The matrix below shows the cost of assigning a certain worker to a certain job (this represents the weight). The objective is to minimize the total cost of the assignment."
   ]
  },
  {
   "cell_type": "markdown",
   "id": "77683b7a-376a-465f-b45d-5ebe9d64ca03",
   "metadata": {},
   "source": [
    "|      | Job1 | Job2 | Job3 | Job4 | \n",
    "| ---- | ---- | ---- | ---- | ---- |\n",
    "| Worker 1    | 21| 51|10|7|\n",
    "| Worker 2   | 91| 66|76|54|\n",
    "| Worker 3   | 26| 22|53|9|\n",
    "| Worker 4   | 78| 21|81|80|"
   ]
  },
  {
   "cell_type": "markdown",
   "id": "09e9de53-2d0f-4e37-9d76-b99702593bb0",
   "metadata": {},
   "source": [
    "#### Step 1) Subtract the minimum value of each row"
   ]
  },
  {
   "cell_type": "markdown",
   "id": "f7b20816-9d5e-4e65-932b-e2f26c9559f4",
   "metadata": {},
   "source": [
    "- Subtract 7 from row 1\n",
    "- Subtract 54 from row 2\n",
    "- Subtract 9 from row 3\n",
    "- Subtract 21 from row 4"
   ]
  },
  {
   "cell_type": "markdown",
   "id": "125f799b-3ef9-49f3-89c4-26b8f4f21d6a",
   "metadata": {},
   "source": [
    "|      | Job1 | Job2 | Job3 | Job4 | \n",
    "| ---- | ---- | ---- | ---- | ---- |\n",
    "| Worker 1    | 14| 44|3|0|\n",
    "| Worker 2   | 37| 12|22|0|\n",
    "| Worker 3   | 17| 13|44|0|\n",
    "| Worker 4   | 57| 0|60|59|"
   ]
  },
  {
   "cell_type": "markdown",
   "id": "e33c1ca6-f9af-4242-9550-56eaa1ae913e",
   "metadata": {},
   "source": [
    "#### Step 2) Subtract the minimum value of each column"
   ]
  },
  {
   "cell_type": "markdown",
   "id": "8d960537-44e7-4160-8332-ac33dddb52c6",
   "metadata": {},
   "source": [
    "- Subtract 14 from column 1\n",
    "- Subtract 0 from column 2\n",
    "- Subtract 3 from column 3\n",
    "- Subtract 0 from column 4"
   ]
  },
  {
   "cell_type": "markdown",
   "id": "0ad7c922-755f-4e68-8bf2-895c3ad3226e",
   "metadata": {},
   "source": [
    "|      | Job1 | Job2 | Job3 | Job4 | \n",
    "| ---- | ---- | ---- | ---- | ---- |\n",
    "| Worker 1    | 0| 44|0|0|\n",
    "| Worker 2   | 23| 12|19|0|\n",
    "| Worker 3   | 3| 13|41|0|\n",
    "| Worker 4   | 43| 0|57|59|"
   ]
  },
  {
   "cell_type": "markdown",
   "id": "b09c8918-fc03-4dfb-8ae2-d08e60b714a9",
   "metadata": {},
   "source": [
    "#### Step 3) \"Cover\" all the 0's in the resulting matrix using the minimum number of horizontal and vertical lines. \n",
    "\n",
    "|      | Job1 | Job2 | Job3 | Job4 | \n",
    "| ---- | ---- | ---- | ---- | ---- |\n",
    "| Worker 1    | **0**| **44**|**0**|**0**|\n",
    "| Worker 2   | 23| 12|19|**0**|\n",
    "| Worker 3   | 3| 13|41|**0**|\n",
    "| Worker 4   | **43**| **0**|**57**|**59**|\n",
    "\n",
    "\n",
    "We highlight rows 1 and 4 and column 4. We can see that the numbers of rows and columns highlighted is 3 but we have a 4 dimensional matrix. Hence we continue to step 4"
   ]
  },
  {
   "cell_type": "markdown",
   "id": "bd8134ce-5286-4111-b90b-ced7b504a1ba",
   "metadata": {},
   "source": [
    "#### Step 4) Find the smallest element that is not covered by a line in step 3. Subtract k from all uncovered elements and add k to all elements that are covered twice."
   ]
  },
  {
   "cell_type": "markdown",
   "id": "32dccc62-2bd7-4a4e-8f45-a89d213146dc",
   "metadata": {},
   "source": [
    "We can see that the smallest value that is not highlighted (covered) is 3. We see from that matrix that x_14 and x_44 are covered twice hence in those cells we add 3. In all uncovered cells we remove 3."
   ]
  },
  {
   "cell_type": "markdown",
   "id": "0ec7bd01-8c0f-4080-9edb-6c641d448b21",
   "metadata": {},
   "source": [
    "|      | Job1 | Job2 | Job3 | Job4 | \n",
    "| ---- | ---- | ---- | ---- | ---- |\n",
    "| Worker 1    | 0| 44|0|3|\n",
    "| Worker 2   | 20| 9|16|0|\n",
    "| Worker 3   | 0| 10|38|0|\n",
    "| Worker 4   | 43| 0|57|62|"
   ]
  },
  {
   "cell_type": "markdown",
   "id": "61a117fc-4924-4e17-951d-e040e4821ebe",
   "metadata": {},
   "source": [
    "We now go back to step 3. Lets see fund the minimum number of times we have to cover the rows and columns to cover all the 0's. <br>\n",
    "\n",
    "We can see from above that there is now way to cover all 0's in three row/column coverings. We see that 4 must be needed. Since we are dealing with a 4 dimension matrix we are finished. In other words the best allocation of workers to the job is:\n",
    "\n",
    "Worker 1 - Job 3 <br>\n",
    "Worker 2 - Job 4 <br>\n",
    "Worker 3 - Job 1 <br>\n",
    "Worker 4 - Job 2 <br>"
   ]
  },
  {
   "cell_type": "markdown",
   "id": "92f72554-89fe-46a2-b92e-809447c89a2d",
   "metadata": {},
   "source": [
    "We look at the original matrix  to find the original cost:\n",
    "\n",
    "|      | Job1 | Job2 | Job3 | Job4 | \n",
    "| ---- | ---- | ---- | ---- | ---- |\n",
    "| Worker 1    | 21| 51|10|7|\n",
    "| Worker 2   | 91| 66|76|54|\n",
    "| Worker 3   | 26| 22|53|9|\n",
    "| Worker 4   | 78| 21|81|80|\n",
    "\n",
    "Hence we get:\n",
    "\n",
    "Worker 1 - Job 3: cost 10 <br>\n",
    "Worker 2 - Job 4 cost 54 <br>\n",
    "Worker 3 - Job 1 cost 26 <br>\n",
    "Worker 4 - Job 2 cost 21 <br>\n",
    "\n",
    "This gets a total cost of 10+54+26+21 <br>\n",
    "= 111"
   ]
  },
  {
   "cell_type": "markdown",
   "id": "53e4336b-77a0-4fc3-b9b0-aebf2fb37b13",
   "metadata": {},
   "source": [
    "### Why does the algorithm work\n",
    "\n",
    "Subtracting the minimum value in each row and column transforms the matrix so that the lower bounds of the costs are adjusted to zero. This operation maintains the relative differences between the costs, which is critical because the relative differences determine the decision of assignment. The transformation does not change the optimal set of assignments because it’s a consistent reduction across each row or column—think of it as recalibrating the matrix to a new baseline where the lowest possible cost starts at zero.\n",
    "\n",
    "\n",
    "\n",
    "Why Cover the Zeros?: The goal here is to find a combination of rows and columns such that all zeros are covered and the number of covering lines is minimized. If the number of lines used to cover the zeros equals the number of rows or columns, then the optimal assignments can be made directly from the zeros that are not intersected by multiple lines. Each zero that isn't intersected represents a possible assignment of a job to a worker at no additional cost.\n",
    "\n",
    "\n",
    "Why Adjust the Matrix This Way?: This method systematically exposes more zeros in the matrix while maintaining the integrity of the relative cost structure. By making these adjustments, the algorithm incrementally steps closer to finding the minimum cost assignment."
   ]
  },
  {
   "cell_type": "markdown",
   "id": "7500605a-72fb-4d43-b184-33ad9218800c",
   "metadata": {},
   "source": [
    "### Here is my best attempt at coding this algorithm"
   ]
  },
  {
   "cell_type": "code",
   "execution_count": 1,
   "id": "ef1eb4bb-55e4-497e-87f9-4f902d030fa7",
   "metadata": {},
   "outputs": [],
   "source": [
    "import numpy as np\n",
    "\n",
    "def subtract_row_minima(matrix):\n",
    "    for i in range(len(matrix)):\n",
    "        min_row_value = min(matrix[i])\n",
    "        for j in range(len(matrix[0])):\n",
    "            matrix[i][j] -= min_row_value\n",
    "\n",
    "def subtract_col_minima(matrix):\n",
    "    for j in range(len(matrix[0])):\n",
    "        min_col_value = min(matrix[:, j])\n",
    "        for i in range(len(matrix)):\n",
    "            matrix[i][j] -= min_col_value\n",
    "\n",
    "def cover_zeros(matrix):\n",
    "    # Initialize covered rows and columns\n",
    "    covered_rows = set()\n",
    "    covered_cols = set()\n",
    "\n",
    "    while True:\n",
    "        # Find rows and columns with minimum uncovered zeros\n",
    "        row_cover_count = np.sum(matrix == 0, axis=1)\n",
    "        col_cover_count = np.sum(matrix == 0, axis=0)\n",
    "\n",
    "        # If no zeros are left to cover, break the loop\n",
    "        if np.all(row_cover_count >= 1) and np.all(col_cover_count >= 1):\n",
    "            break\n",
    "\n",
    "        # Find the row or column with the maximum number of uncovered zeros\n",
    "        max_row = np.argmax(row_cover_count)\n",
    "        max_col = np.argmax(col_cover_count)\n",
    "\n",
    "        # Cover the row or column with the maximum number of uncovered zeros\n",
    "        if row_cover_count[max_row] >= col_cover_count[max_col]:\n",
    "            covered_rows.add(max_row)\n",
    "        else:\n",
    "            covered_cols.add(max_col)\n",
    "\n",
    "        # Update matrix by adding a large number to covered rows and columns\n",
    "        matrix[np.array(list(covered_rows))] += np.max(matrix) + 1\n",
    "        matrix[:, np.array(list(covered_cols))] += np.max(matrix) + 1\n",
    "\n",
    "    return covered_rows, covered_cols\n",
    "\n",
    "def create_additional_zeros(matrix, covered_rows, covered_cols):\n",
    "    # Find the smallest uncovered element\n",
    "    min_uncovered = np.min(matrix[np.ix_([i for i in range(matrix.shape[0]) if i not in covered_rows],\n",
    "                                          [j for j in range(matrix.shape[1]) if j not in covered_cols])])\n",
    "\n",
    "    # Subtract min_uncovered from uncovered elements\n",
    "    matrix[np.ix_([i for i in range(matrix.shape[0]) if i not in covered_rows],\n",
    "                  [j for j in range(matrix.shape[1]) if j not in covered_cols])] -= min_uncovered\n",
    "\n",
    "    # Add min_uncovered to doubly-covered elements\n",
    "    matrix[np.ix_([i for i in range(matrix.shape[0]) if i in covered_rows],\n",
    "                  [j for j in range(matrix.shape[1]) if j in covered_cols])] += min_uncovered\n",
    "\n",
    "def solve(matrix):\n",
    "    # Step 1: Subtract row minima\n",
    "    subtract_row_minima(matrix)\n",
    "\n",
    "    # Step 2: Subtract column minima\n",
    "    subtract_col_minima(matrix)\n",
    "\n",
    "    # Step 3: Cover all zeros with a minimum number of lines\n",
    "    covered_rows, covered_cols = cover_zeros(matrix)\n",
    "\n",
    "    # Step 4: Create additional zeros\n",
    "    create_additional_zeros(matrix, covered_rows, covered_cols)\n",
    "\n",
    "    return matrix\n",
    "\n",
    "# Example usage:\n",
    "matrix = np.array([\n",
    "    [21, 51, 10, 7],\n",
    "    [91, 66, 76, 54],\n",
    "    [26, 22, 53, 9],\n",
    "    [78, 21, 81, 80]\n",
    "])\n"
   ]
  },
  {
   "cell_type": "markdown",
   "id": "80c3096c-0931-4a4f-9587-6689e124043f",
   "metadata": {},
   "source": [
    "### Here is a much easier way to run the Hungarian Method after I discovered linear_sum_assignment"
   ]
  },
  {
   "cell_type": "code",
   "execution_count": 5,
   "id": "d93bedbf-fade-44ce-b0f6-987695844845",
   "metadata": {},
   "outputs": [
    {
     "name": "stderr",
     "output_type": "stream",
     "text": [
      "C:\\Users\\alexk\\miniconda3\\lib\\site-packages\\scipy\\__init__.py:146: UserWarning: A NumPy version >=1.17.3 and <1.25.0 is required for this version of SciPy (detected version 1.26.4\n",
      "  warnings.warn(f\"A NumPy version >={np_minversion} and <{np_maxversion}\"\n"
     ]
    },
    {
     "name": "stdout",
     "output_type": "stream",
     "text": [
      "Optimal assignment: [(0, 2), (1, 3), (2, 0), (3, 1)]\n",
      "Minimum cost: 111\n"
     ]
    }
   ],
   "source": [
    "import numpy as np\n",
    "\n",
    "def hungarian_method(cost_matrix):\n",
    "    from scipy.optimize import linear_sum_assignment\n",
    "    # The linear_sum_assignment function from scipy finds the minimum cost assignment\n",
    "    # for a given cost matrix.\n",
    "    row_ind, col_ind = linear_sum_assignment(cost_matrix)\n",
    "    optimal_assignment = list(zip(row_ind, col_ind))\n",
    "    minimum_cost = cost_matrix[row_ind, col_ind].sum()\n",
    "    return optimal_assignment, minimum_cost\n",
    "\n",
    "# Example usage with the given matrix\n",
    "matrix = np.array([\n",
    "    [21, 51, 10, 7],\n",
    "    [91, 66, 76, 54],\n",
    "    [26, 22, 53, 9],\n",
    "    [78, 21, 81, 80]\n",
    "])\n",
    "\n",
    "assignment, cost = hungarian_method(matrix)\n",
    "print(\"Optimal assignment:\", assignment)\n",
    "print(\"Minimum cost:\", cost)\n"
   ]
  },
  {
   "cell_type": "markdown",
   "id": "b8d9cdb8-2689-4fdb-989f-bd5b77b5e712",
   "metadata": {},
   "source": [
    "### Confirming results using cvxpy"
   ]
  },
  {
   "cell_type": "code",
   "execution_count": 9,
   "id": "af62726b-fb67-41ba-836b-cab6eceba529",
   "metadata": {},
   "outputs": [
    {
     "name": "stdout",
     "output_type": "stream",
     "text": [
      "Optimal assignment: [[0 2]\n",
      " [1 3]\n",
      " [2 0]\n",
      " [3 1]]\n",
      "Minimum cost: 111.0\n"
     ]
    }
   ],
   "source": [
    "import cvxpy as cp\n",
    "\n",
    "def solve_assignment_problem(cost_matrix):\n",
    "    num_workers, num_tasks = cost_matrix.shape\n",
    "    # Create a binary variable for assignments\n",
    "    x = cp.Variable((num_workers, num_tasks), boolean=True)\n",
    "\n",
    "    # Objective: Minimize total cost\n",
    "    cost = cp.sum(cp.multiply(cost_matrix, x))\n",
    "    objective = cp.Minimize(cost)\n",
    "\n",
    "    # Constraints\n",
    "    constraints = []\n",
    "    # Each worker is assigned to exactly one task\n",
    "    constraints += [cp.sum(x, axis=1) == 1]\n",
    "    # Each task is assigned to exactly one worker\n",
    "    constraints += [cp.sum(x, axis=0) == 1]\n",
    "\n",
    "    # Problem\n",
    "    prob = cp.Problem(objective, constraints)\n",
    "    prob.solve()\n",
    "\n",
    "    # Output the results\n",
    "    optimal_cost = prob.value\n",
    "    optimal_assignment = np.argwhere(x.value > 0.5)\n",
    "    return optimal_assignment, optimal_cost\n",
    "\n",
    "# Define the cost matrix\n",
    "matrix = np.array([\n",
    "    [21, 51, 10, 7],\n",
    "    [91, 66, 76, 54],\n",
    "    [26, 22, 53, 9],\n",
    "    [78, 21, 81, 80]\n",
    "])\n",
    "\n",
    "assignment, cost = solve_assignment_problem(matrix)\n",
    "print(\"Optimal assignment:\", assignment)\n",
    "print(\"Minimum cost:\", cost)\n"
   ]
  },
  {
   "cell_type": "markdown",
   "id": "23519b42-6054-4394-95b5-b0564b00b5f1",
   "metadata": {},
   "source": [
    "### Using a larger example:"
   ]
  },
  {
   "cell_type": "code",
   "execution_count": 11,
   "id": "3f01c70f-0fec-40c6-a520-5ae8ec272837",
   "metadata": {},
   "outputs": [
    {
     "name": "stdout",
     "output_type": "stream",
     "text": [
      "Optimal assignment: [(0, 5), (1, 1), (2, 2), (3, 3), (4, 9), (5, 0), (6, 6), (7, 4), (8, 7), (9, 8)]\n",
      "Minimum cost: 122\n"
     ]
    }
   ],
   "source": [
    "matrix = np.array([[55, 58, 75, 78, 78, 20, 94, 32, 47, 98],\n",
    " [81, 23, 69, 76, 50, 98, 57, 92, 48, 36],\n",
    " [88, 83, 20, 31, 91, 80, 90, 58, 75, 93],\n",
    " [60, 40, 30, 14, 74, 33, 38, 87, 18, 22],\n",
    " [80, 69, 47, 64, 82, 99, 88, 49, 29, 19],\n",
    " [19, 14, 39, 32, 65,  9, 57, 32, 31, 74],\n",
    " [23, 35, 75, 55, 28, 34,  0,  0, 36, 53],\n",
    " [ 5, 38, 17, 79,  4, 42, 58, 31,  1, 65],\n",
    " [41, 57, 35, 11, 46, 82, 91,  0, 14, 99],\n",
    " [53, 12, 42, 75, 68,  6, 68, 47,  3, 76]])\n",
    "\n",
    "\n",
    "\n",
    "assignment, cost = hungarian_method(matrix)\n",
    "print(\"Optimal assignment:\", assignment)\n",
    "print(\"Minimum cost:\", cost)"
   ]
  },
  {
   "cell_type": "markdown",
   "id": "55bca1ef-79c8-4f4a-b4d8-7227f6d83b8c",
   "metadata": {},
   "source": [
    "### Confirming Results"
   ]
  },
  {
   "cell_type": "code",
   "execution_count": 12,
   "id": "ac1b3a92-2f20-4f4d-a9f9-79d712ce58d6",
   "metadata": {},
   "outputs": [
    {
     "name": "stdout",
     "output_type": "stream",
     "text": [
      "Optimal assignment: [[0 5]\n",
      " [1 1]\n",
      " [2 2]\n",
      " [3 3]\n",
      " [4 9]\n",
      " [5 0]\n",
      " [6 6]\n",
      " [7 4]\n",
      " [8 7]\n",
      " [9 8]]\n",
      "Minimum cost: 122.0\n"
     ]
    }
   ],
   "source": [
    "matrix = np.array([[55, 58, 75, 78, 78, 20, 94, 32, 47, 98],\n",
    " [81, 23, 69, 76, 50, 98, 57, 92, 48, 36],\n",
    " [88, 83, 20, 31, 91, 80, 90, 58, 75, 93],\n",
    " [60, 40, 30, 14, 74, 33, 38, 87, 18, 22],\n",
    " [80, 69, 47, 64, 82, 99, 88, 49, 29, 19],\n",
    " [19, 14, 39, 32, 65,  9, 57, 32, 31, 74],\n",
    " [23, 35, 75, 55, 28, 34,  0,  0, 36, 53],\n",
    " [ 5, 38, 17, 79,  4, 42, 58, 31,  1, 65],\n",
    " [41, 57, 35, 11, 46, 82, 91,  0, 14, 99],\n",
    " [53, 12, 42, 75, 68,  6, 68, 47,  3, 76]])\n",
    "\n",
    "assignment, cost = solve_assignment_problem(matrix)\n",
    "print(\"Optimal assignment:\", assignment)\n",
    "print(\"Minimum cost:\", cost)"
   ]
  },
  {
   "cell_type": "code",
   "execution_count": null,
   "id": "2f107b1d-4f51-4bda-b9ad-ebfa0084adf0",
   "metadata": {},
   "outputs": [],
   "source": []
  }
 ],
 "metadata": {
  "kernelspec": {
   "display_name": "Python 3 (ipykernel)",
   "language": "python",
   "name": "python3"
  },
  "language_info": {
   "codemirror_mode": {
    "name": "ipython",
    "version": 3
   },
   "file_extension": ".py",
   "mimetype": "text/x-python",
   "name": "python",
   "nbconvert_exporter": "python",
   "pygments_lexer": "ipython3",
   "version": "3.9.10"
  }
 },
 "nbformat": 4,
 "nbformat_minor": 5
}
